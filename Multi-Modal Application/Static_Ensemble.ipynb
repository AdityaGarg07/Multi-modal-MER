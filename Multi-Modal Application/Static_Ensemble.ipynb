{
  "nbformat": 4,
  "nbformat_minor": 0,
  "metadata": {
    "colab": {
      "name": "Static-Ensemble.ipynb",
      "provenance": []
    },
    "kernelspec": {
      "name": "python3",
      "display_name": "Python 3"
    }
  },
  "cells": [
    {
      "cell_type": "code",
      "metadata": {
        "id": "uJ8shkJvhbPn"
      },
      "source": [
        "import pandas as pd\r\n",
        "import numpy as np"
      ],
      "execution_count": null,
      "outputs": []
    },
    {
      "cell_type": "code",
      "metadata": {
        "colab": {
          "base_uri": "https://localhost:8080/"
        },
        "id": "J0cnSi6xtrCt",
        "outputId": "4a63ad7d-e300-461f-ff8c-260d95cc8510"
      },
      "source": [
        "!ls /content/drive/My\\ Drive/ML\\ Project/Datasets/"
      ],
      "execution_count": null,
      "outputs": [
        {
          "output_type": "stream",
          "text": [
            "annotations_dynamic.csv  audio_static.csv  lyrics_linguistic.csv\n",
            "annotations_static.csv\t eda_dynamic.csv   lyrics_tfidf.csv\n",
            "audio_dynamic.csv\t eda_static.csv\n"
          ],
          "name": "stdout"
        }
      ]
    },
    {
      "cell_type": "code",
      "metadata": {
        "id": "KnPpbLZMizNG"
      },
      "source": [
        "lyrics_tfidf = pd.read_csv('/content/drive/MyDrive/ML Project/Datasets/lyrics_tfidf.csv')\r\n",
        "lyrics_linguistic = pd.read_csv('/content/drive/MyDrive/ML Project/Datasets/lyrics_linguistic.csv')\r\n",
        "audio_static = pd.read_csv('/content/drive/MyDrive/ML Project/Datasets/audio_static.csv')\r\n",
        "eda_static = pd.read_csv('/content/drive/MyDrive/ML Project/Datasets/eda_static.csv')\r\n",
        "\r\n",
        "eda_dataset = eda_static.groupby(by=['musicId'], as_index=False).mean()\r\n",
        "#eda_dataset.drop('Valence(mean)', axis=1, inplace=True)\r\n",
        "#eda_dataset.drop('Arousal(mean)', axis=1, inplace=True)"
      ],
      "execution_count": null,
      "outputs": []
    },
    {
      "cell_type": "code",
      "metadata": {
        "id": "-fUMCrd3l8Qw"
      },
      "source": [
        "labels = pd.read_csv('/content/drive/MyDrive/ML Project/Datasets/annotations_static.csv')"
      ],
      "execution_count": null,
      "outputs": []
    },
    {
      "cell_type": "code",
      "metadata": {
        "id": "Ma1yTsz3mUia"
      },
      "source": [
        "lyr = pd.merge(lyrics_tfidf, lyrics_linguistic, on='musicId')\r\n",
        "aud_eda = pd.merge(audio_static, eda_dataset, on='musicId')\r\n",
        "joined = pd.merge(lyr, aud_eda, on='musicId')\r\n",
        "\r\n",
        "dataset = pd.merge(joined, labels, on='musicId')"
      ],
      "execution_count": null,
      "outputs": []
    },
    {
      "cell_type": "code",
      "metadata": {
        "colab": {
          "base_uri": "https://localhost:8080/"
        },
        "id": "_ngxLGGunOYL",
        "outputId": "b7d68b24-171f-4c32-81f1-8b4a337071cd"
      },
      "source": [
        "dataset.shape"
      ],
      "execution_count": null,
      "outputs": [
        {
          "output_type": "execute_result",
          "data": {
            "text/plain": [
              "(603, 7104)"
            ]
          },
          "metadata": {
            "tags": []
          },
          "execution_count": 6
        }
      ]
    },
    {
      "cell_type": "code",
      "metadata": {
        "colab": {
          "base_uri": "https://localhost:8080/",
          "height": 422
        },
        "id": "66Yi4-FYphy-",
        "outputId": "79a0a1c1-fae9-4e10-9d88-925381032bfc"
      },
      "source": [
        "dataset"
      ],
      "execution_count": null,
      "outputs": [
        {
          "output_type": "execute_result",
          "data": {
            "text/html": [
              "<div>\n",
              "<style scoped>\n",
              "    .dataframe tbody tr th:only-of-type {\n",
              "        vertical-align: middle;\n",
              "    }\n",
              "\n",
              "    .dataframe tbody tr th {\n",
              "        vertical-align: top;\n",
              "    }\n",
              "\n",
              "    .dataframe thead th {\n",
              "        text-align: right;\n",
              "    }\n",
              "</style>\n",
              "<table border=\"1\" class=\"dataframe\">\n",
              "  <thead>\n",
              "    <tr style=\"text-align: right;\">\n",
              "      <th></th>\n",
              "      <th>musicId</th>\n",
              "      <th>0</th>\n",
              "      <th>1</th>\n",
              "      <th>2</th>\n",
              "      <th>3</th>\n",
              "      <th>4</th>\n",
              "      <th>5</th>\n",
              "      <th>6</th>\n",
              "      <th>7</th>\n",
              "      <th>8</th>\n",
              "      <th>9</th>\n",
              "      <th>10</th>\n",
              "      <th>11</th>\n",
              "      <th>12</th>\n",
              "      <th>13</th>\n",
              "      <th>14</th>\n",
              "      <th>15</th>\n",
              "      <th>16</th>\n",
              "      <th>17</th>\n",
              "      <th>18</th>\n",
              "      <th>19</th>\n",
              "      <th>20</th>\n",
              "      <th>21</th>\n",
              "      <th>22</th>\n",
              "      <th>23</th>\n",
              "      <th>24</th>\n",
              "      <th>25</th>\n",
              "      <th>26</th>\n",
              "      <th>27</th>\n",
              "      <th>28</th>\n",
              "      <th>29</th>\n",
              "      <th>30</th>\n",
              "      <th>31</th>\n",
              "      <th>32</th>\n",
              "      <th>33</th>\n",
              "      <th>34</th>\n",
              "      <th>35</th>\n",
              "      <th>36</th>\n",
              "      <th>37</th>\n",
              "      <th>38</th>\n",
              "      <th>...</th>\n",
              "      <th>medianMFCC[12]</th>\n",
              "      <th>kurtMFCC[12]</th>\n",
              "      <th>skewMFCC[12]</th>\n",
              "      <th>meanMFCC[13]</th>\n",
              "      <th>stdMFCC[13]</th>\n",
              "      <th>medianMFCC[13]</th>\n",
              "      <th>kurtMFCC[13]</th>\n",
              "      <th>skewMFCC[13]</th>\n",
              "      <th>meanMFCC[14]</th>\n",
              "      <th>stdMFCC[14]</th>\n",
              "      <th>medianMFCC[14]</th>\n",
              "      <th>kurtMFCC[14]</th>\n",
              "      <th>skewMFCC[14]</th>\n",
              "      <th>meanMFCC[15]</th>\n",
              "      <th>stdMFCC[15]</th>\n",
              "      <th>medianMFCC[15]</th>\n",
              "      <th>kurtMFCC[15]</th>\n",
              "      <th>skewMFCC[15]</th>\n",
              "      <th>meanMFCC[16]</th>\n",
              "      <th>stdMFCC[16]</th>\n",
              "      <th>medianMFCC[16]</th>\n",
              "      <th>kurtMFCC[16]</th>\n",
              "      <th>skewMFCC[16]</th>\n",
              "      <th>meanMFCC[17]</th>\n",
              "      <th>stdMFCC[17]</th>\n",
              "      <th>medianMFCC[17]</th>\n",
              "      <th>kurtMFCC[17]</th>\n",
              "      <th>skewMFCC[17]</th>\n",
              "      <th>meanMFCC[18]</th>\n",
              "      <th>stdMFCC[18]</th>\n",
              "      <th>medianMFCC[18]</th>\n",
              "      <th>kurtMFCC[18]</th>\n",
              "      <th>skewMFCC[18]</th>\n",
              "      <th>meanMFCC[19]</th>\n",
              "      <th>stdMFCC[19]</th>\n",
              "      <th>medianMFCC[19]</th>\n",
              "      <th>kurtMFCC[19]</th>\n",
              "      <th>skewMFCC[19]</th>\n",
              "      <th>Arousal(mean)</th>\n",
              "      <th>Valence(mean)</th>\n",
              "    </tr>\n",
              "  </thead>\n",
              "  <tbody>\n",
              "    <tr>\n",
              "      <th>0</th>\n",
              "      <td>1.0</td>\n",
              "      <td>0.372514</td>\n",
              "      <td>-1.131089</td>\n",
              "      <td>-4.053200</td>\n",
              "      <td>0.036860</td>\n",
              "      <td>0.433837</td>\n",
              "      <td>4.066642</td>\n",
              "      <td>-0.411591</td>\n",
              "      <td>-0.697551</td>\n",
              "      <td>13.444840</td>\n",
              "      <td>8.207451</td>\n",
              "      <td>10.152243</td>\n",
              "      <td>3.086615</td>\n",
              "      <td>6.660395</td>\n",
              "      <td>1.226224</td>\n",
              "      <td>-1.921786</td>\n",
              "      <td>-9.061651</td>\n",
              "      <td>4.138314</td>\n",
              "      <td>58.377313</td>\n",
              "      <td>-3.848634</td>\n",
              "      <td>-31.818441</td>\n",
              "      <td>109.079625</td>\n",
              "      <td>9.969654</td>\n",
              "      <td>-43.581373</td>\n",
              "      <td>-3.209697</td>\n",
              "      <td>44.874865</td>\n",
              "      <td>-51.925529</td>\n",
              "      <td>21.308090</td>\n",
              "      <td>-72.649160</td>\n",
              "      <td>-5.586233</td>\n",
              "      <td>-40.436786</td>\n",
              "      <td>-29.205944</td>\n",
              "      <td>-19.621266</td>\n",
              "      <td>-1.070990</td>\n",
              "      <td>6.283604</td>\n",
              "      <td>1.691552</td>\n",
              "      <td>1.402843</td>\n",
              "      <td>-3.839832</td>\n",
              "      <td>-7.403585</td>\n",
              "      <td>-10.148920</td>\n",
              "      <td>...</td>\n",
              "      <td>10.850568</td>\n",
              "      <td>-1.099567</td>\n",
              "      <td>-0.230450</td>\n",
              "      <td>11.147463</td>\n",
              "      <td>1.607128</td>\n",
              "      <td>10.973842</td>\n",
              "      <td>-1.365181</td>\n",
              "      <td>0.198079</td>\n",
              "      <td>9.557910</td>\n",
              "      <td>1.513790</td>\n",
              "      <td>9.694053</td>\n",
              "      <td>-1.238141</td>\n",
              "      <td>-0.211467</td>\n",
              "      <td>7.251056</td>\n",
              "      <td>2.364838</td>\n",
              "      <td>7.468220</td>\n",
              "      <td>-1.234989</td>\n",
              "      <td>0.021289</td>\n",
              "      <td>7.545039</td>\n",
              "      <td>1.992864</td>\n",
              "      <td>7.938558</td>\n",
              "      <td>-1.045803</td>\n",
              "      <td>-0.061450</td>\n",
              "      <td>7.067063</td>\n",
              "      <td>1.605247</td>\n",
              "      <td>7.187331</td>\n",
              "      <td>-1.168454</td>\n",
              "      <td>0.073103</td>\n",
              "      <td>6.020834</td>\n",
              "      <td>1.827720</td>\n",
              "      <td>5.848303</td>\n",
              "      <td>-1.272518</td>\n",
              "      <td>0.210816</td>\n",
              "      <td>6.316116</td>\n",
              "      <td>1.296469</td>\n",
              "      <td>6.284431</td>\n",
              "      <td>-1.109246</td>\n",
              "      <td>0.058839</td>\n",
              "      <td>0.4000</td>\n",
              "      <td>0.5750</td>\n",
              "    </tr>\n",
              "    <tr>\n",
              "      <th>1</th>\n",
              "      <td>5.0</td>\n",
              "      <td>-0.021232</td>\n",
              "      <td>-0.068678</td>\n",
              "      <td>-2.645587</td>\n",
              "      <td>0.336421</td>\n",
              "      <td>0.208905</td>\n",
              "      <td>1.439549</td>\n",
              "      <td>-0.206336</td>\n",
              "      <td>-0.253360</td>\n",
              "      <td>2.568004</td>\n",
              "      <td>3.105128</td>\n",
              "      <td>2.800969</td>\n",
              "      <td>0.755397</td>\n",
              "      <td>0.765724</td>\n",
              "      <td>2.158505</td>\n",
              "      <td>-0.816359</td>\n",
              "      <td>-1.371121</td>\n",
              "      <td>2.977944</td>\n",
              "      <td>13.123793</td>\n",
              "      <td>-6.092821</td>\n",
              "      <td>-3.370831</td>\n",
              "      <td>7.943003</td>\n",
              "      <td>-0.017072</td>\n",
              "      <td>-1.415148</td>\n",
              "      <td>-0.452847</td>\n",
              "      <td>1.528979</td>\n",
              "      <td>-3.101916</td>\n",
              "      <td>-2.275334</td>\n",
              "      <td>2.764633</td>\n",
              "      <td>-1.626484</td>\n",
              "      <td>-0.623701</td>\n",
              "      <td>6.116583</td>\n",
              "      <td>7.240577</td>\n",
              "      <td>14.770991</td>\n",
              "      <td>-2.813798</td>\n",
              "      <td>0.379839</td>\n",
              "      <td>-9.284438</td>\n",
              "      <td>-1.680256</td>\n",
              "      <td>-0.258568</td>\n",
              "      <td>0.940455</td>\n",
              "      <td>...</td>\n",
              "      <td>9.612092</td>\n",
              "      <td>0.154587</td>\n",
              "      <td>-0.720260</td>\n",
              "      <td>9.745106</td>\n",
              "      <td>1.971931</td>\n",
              "      <td>9.401256</td>\n",
              "      <td>-0.331909</td>\n",
              "      <td>0.291369</td>\n",
              "      <td>8.885936</td>\n",
              "      <td>1.780294</td>\n",
              "      <td>8.548389</td>\n",
              "      <td>-0.767280</td>\n",
              "      <td>0.446664</td>\n",
              "      <td>7.189814</td>\n",
              "      <td>2.301394</td>\n",
              "      <td>7.302894</td>\n",
              "      <td>-0.498715</td>\n",
              "      <td>-0.272944</td>\n",
              "      <td>7.649896</td>\n",
              "      <td>2.018782</td>\n",
              "      <td>7.249729</td>\n",
              "      <td>-0.416304</td>\n",
              "      <td>0.701229</td>\n",
              "      <td>6.865119</td>\n",
              "      <td>1.734704</td>\n",
              "      <td>6.631614</td>\n",
              "      <td>-0.476418</td>\n",
              "      <td>0.447498</td>\n",
              "      <td>5.440623</td>\n",
              "      <td>1.669053</td>\n",
              "      <td>5.489140</td>\n",
              "      <td>0.094945</td>\n",
              "      <td>-0.246738</td>\n",
              "      <td>5.743504</td>\n",
              "      <td>1.581079</td>\n",
              "      <td>5.460894</td>\n",
              "      <td>-0.524067</td>\n",
              "      <td>0.354852</td>\n",
              "      <td>0.1500</td>\n",
              "      <td>0.2000</td>\n",
              "    </tr>\n",
              "    <tr>\n",
              "      <th>2</th>\n",
              "      <td>6.0</td>\n",
              "      <td>-0.437151</td>\n",
              "      <td>-0.525415</td>\n",
              "      <td>-0.664850</td>\n",
              "      <td>-0.210955</td>\n",
              "      <td>-0.064710</td>\n",
              "      <td>-0.566562</td>\n",
              "      <td>-0.203647</td>\n",
              "      <td>-0.079869</td>\n",
              "      <td>0.723133</td>\n",
              "      <td>0.203518</td>\n",
              "      <td>0.238339</td>\n",
              "      <td>-0.057843</td>\n",
              "      <td>1.037587</td>\n",
              "      <td>-0.621125</td>\n",
              "      <td>-0.035424</td>\n",
              "      <td>1.520478</td>\n",
              "      <td>0.413578</td>\n",
              "      <td>0.406601</td>\n",
              "      <td>-0.456730</td>\n",
              "      <td>0.463864</td>\n",
              "      <td>0.593440</td>\n",
              "      <td>-0.182471</td>\n",
              "      <td>-0.353375</td>\n",
              "      <td>0.091544</td>\n",
              "      <td>-0.487048</td>\n",
              "      <td>0.204503</td>\n",
              "      <td>-0.284889</td>\n",
              "      <td>0.684036</td>\n",
              "      <td>-0.072291</td>\n",
              "      <td>-0.151283</td>\n",
              "      <td>-0.092355</td>\n",
              "      <td>0.319868</td>\n",
              "      <td>-0.134807</td>\n",
              "      <td>-0.084791</td>\n",
              "      <td>-0.589994</td>\n",
              "      <td>0.293458</td>\n",
              "      <td>0.167845</td>\n",
              "      <td>-0.032148</td>\n",
              "      <td>0.147556</td>\n",
              "      <td>...</td>\n",
              "      <td>6.084352</td>\n",
              "      <td>-1.500000</td>\n",
              "      <td>0.320956</td>\n",
              "      <td>10.498371</td>\n",
              "      <td>2.068294</td>\n",
              "      <td>11.371218</td>\n",
              "      <td>-1.500000</td>\n",
              "      <td>-0.395634</td>\n",
              "      <td>9.454602</td>\n",
              "      <td>1.870859</td>\n",
              "      <td>10.087502</td>\n",
              "      <td>-1.500000</td>\n",
              "      <td>-0.326636</td>\n",
              "      <td>6.279164</td>\n",
              "      <td>2.403212</td>\n",
              "      <td>5.866133</td>\n",
              "      <td>-1.500000</td>\n",
              "      <td>0.056473</td>\n",
              "      <td>9.070453</td>\n",
              "      <td>1.711290</td>\n",
              "      <td>9.430366</td>\n",
              "      <td>-1.500000</td>\n",
              "      <td>-0.236804</td>\n",
              "      <td>7.790318</td>\n",
              "      <td>1.549399</td>\n",
              "      <td>7.932023</td>\n",
              "      <td>-1.500000</td>\n",
              "      <td>-0.021071</td>\n",
              "      <td>4.622217</td>\n",
              "      <td>1.784995</td>\n",
              "      <td>4.157071</td>\n",
              "      <td>-1.500000</td>\n",
              "      <td>0.184870</td>\n",
              "      <td>6.458339</td>\n",
              "      <td>1.493094</td>\n",
              "      <td>6.620252</td>\n",
              "      <td>-1.500000</td>\n",
              "      <td>-0.041720</td>\n",
              "      <td>0.5125</td>\n",
              "      <td>0.3500</td>\n",
              "    </tr>\n",
              "    <tr>\n",
              "      <th>3</th>\n",
              "      <td>9.0</td>\n",
              "      <td>0.302196</td>\n",
              "      <td>-0.833174</td>\n",
              "      <td>-1.614257</td>\n",
              "      <td>0.596998</td>\n",
              "      <td>0.106135</td>\n",
              "      <td>-0.987560</td>\n",
              "      <td>-0.259543</td>\n",
              "      <td>-0.100091</td>\n",
              "      <td>-0.150844</td>\n",
              "      <td>0.354404</td>\n",
              "      <td>-0.493431</td>\n",
              "      <td>-0.277419</td>\n",
              "      <td>0.695324</td>\n",
              "      <td>0.896729</td>\n",
              "      <td>-0.492577</td>\n",
              "      <td>0.078962</td>\n",
              "      <td>3.050107</td>\n",
              "      <td>0.647404</td>\n",
              "      <td>-0.502304</td>\n",
              "      <td>0.681047</td>\n",
              "      <td>1.877679</td>\n",
              "      <td>-0.490906</td>\n",
              "      <td>0.494327</td>\n",
              "      <td>-0.140428</td>\n",
              "      <td>-0.445339</td>\n",
              "      <td>1.146197</td>\n",
              "      <td>-1.220509</td>\n",
              "      <td>0.968865</td>\n",
              "      <td>0.736790</td>\n",
              "      <td>0.911823</td>\n",
              "      <td>1.364060</td>\n",
              "      <td>3.858433</td>\n",
              "      <td>3.775644</td>\n",
              "      <td>-1.555420</td>\n",
              "      <td>-0.797959</td>\n",
              "      <td>-1.712967</td>\n",
              "      <td>2.390371</td>\n",
              "      <td>4.768626</td>\n",
              "      <td>-1.007737</td>\n",
              "      <td>...</td>\n",
              "      <td>9.694449</td>\n",
              "      <td>-1.500000</td>\n",
              "      <td>-0.214557</td>\n",
              "      <td>9.151758</td>\n",
              "      <td>1.452264</td>\n",
              "      <td>9.299545</td>\n",
              "      <td>-1.500000</td>\n",
              "      <td>0.083824</td>\n",
              "      <td>7.811983</td>\n",
              "      <td>0.971442</td>\n",
              "      <td>7.854565</td>\n",
              "      <td>-1.500000</td>\n",
              "      <td>0.042519</td>\n",
              "      <td>6.625063</td>\n",
              "      <td>1.334569</td>\n",
              "      <td>6.332924</td>\n",
              "      <td>-1.500000</td>\n",
              "      <td>0.105497</td>\n",
              "      <td>7.146377</td>\n",
              "      <td>0.708097</td>\n",
              "      <td>7.047344</td>\n",
              "      <td>-1.500000</td>\n",
              "      <td>0.158836</td>\n",
              "      <td>6.666533</td>\n",
              "      <td>0.973502</td>\n",
              "      <td>6.456297</td>\n",
              "      <td>-1.500000</td>\n",
              "      <td>0.123654</td>\n",
              "      <td>5.920226</td>\n",
              "      <td>1.416695</td>\n",
              "      <td>5.838139</td>\n",
              "      <td>-1.500000</td>\n",
              "      <td>0.014551</td>\n",
              "      <td>6.091127</td>\n",
              "      <td>0.761465</td>\n",
              "      <td>6.063216</td>\n",
              "      <td>-1.500000</td>\n",
              "      <td>-0.059084</td>\n",
              "      <td>0.4500</td>\n",
              "      <td>0.2875</td>\n",
              "    </tr>\n",
              "    <tr>\n",
              "      <th>4</th>\n",
              "      <td>10.0</td>\n",
              "      <td>-0.484528</td>\n",
              "      <td>-0.380687</td>\n",
              "      <td>-1.162074</td>\n",
              "      <td>-0.398932</td>\n",
              "      <td>0.094664</td>\n",
              "      <td>1.049898</td>\n",
              "      <td>1.490700</td>\n",
              "      <td>-0.071681</td>\n",
              "      <td>0.639735</td>\n",
              "      <td>0.061694</td>\n",
              "      <td>-0.593459</td>\n",
              "      <td>-0.230630</td>\n",
              "      <td>-0.653413</td>\n",
              "      <td>-0.891132</td>\n",
              "      <td>-0.206955</td>\n",
              "      <td>-0.433181</td>\n",
              "      <td>-1.352576</td>\n",
              "      <td>2.094398</td>\n",
              "      <td>-0.360030</td>\n",
              "      <td>0.789078</td>\n",
              "      <td>-0.028796</td>\n",
              "      <td>-0.533911</td>\n",
              "      <td>0.347344</td>\n",
              "      <td>-0.347891</td>\n",
              "      <td>1.126449</td>\n",
              "      <td>0.748307</td>\n",
              "      <td>-1.686076</td>\n",
              "      <td>0.626602</td>\n",
              "      <td>2.975630</td>\n",
              "      <td>4.725517</td>\n",
              "      <td>1.250379</td>\n",
              "      <td>0.061392</td>\n",
              "      <td>1.686538</td>\n",
              "      <td>1.462326</td>\n",
              "      <td>-0.714772</td>\n",
              "      <td>2.966228</td>\n",
              "      <td>-2.119654</td>\n",
              "      <td>-0.105333</td>\n",
              "      <td>0.465992</td>\n",
              "      <td>...</td>\n",
              "      <td>8.963801</td>\n",
              "      <td>-1.319071</td>\n",
              "      <td>0.117156</td>\n",
              "      <td>10.245287</td>\n",
              "      <td>1.536364</td>\n",
              "      <td>10.093020</td>\n",
              "      <td>-1.204947</td>\n",
              "      <td>0.268921</td>\n",
              "      <td>9.409761</td>\n",
              "      <td>1.074359</td>\n",
              "      <td>9.374090</td>\n",
              "      <td>-1.059598</td>\n",
              "      <td>0.151306</td>\n",
              "      <td>7.201493</td>\n",
              "      <td>1.818008</td>\n",
              "      <td>7.178715</td>\n",
              "      <td>-1.055752</td>\n",
              "      <td>0.082602</td>\n",
              "      <td>7.333942</td>\n",
              "      <td>1.471072</td>\n",
              "      <td>7.410588</td>\n",
              "      <td>-1.391486</td>\n",
              "      <td>-0.119349</td>\n",
              "      <td>6.273969</td>\n",
              "      <td>1.093218</td>\n",
              "      <td>6.271845</td>\n",
              "      <td>-1.368995</td>\n",
              "      <td>0.226049</td>\n",
              "      <td>4.990312</td>\n",
              "      <td>1.288650</td>\n",
              "      <td>5.080148</td>\n",
              "      <td>-1.373109</td>\n",
              "      <td>-0.104835</td>\n",
              "      <td>5.980541</td>\n",
              "      <td>1.044299</td>\n",
              "      <td>6.105717</td>\n",
              "      <td>-1.109059</td>\n",
              "      <td>-0.304776</td>\n",
              "      <td>0.4375</td>\n",
              "      <td>0.4250</td>\n",
              "    </tr>\n",
              "    <tr>\n",
              "      <th>...</th>\n",
              "      <td>...</td>\n",
              "      <td>...</td>\n",
              "      <td>...</td>\n",
              "      <td>...</td>\n",
              "      <td>...</td>\n",
              "      <td>...</td>\n",
              "      <td>...</td>\n",
              "      <td>...</td>\n",
              "      <td>...</td>\n",
              "      <td>...</td>\n",
              "      <td>...</td>\n",
              "      <td>...</td>\n",
              "      <td>...</td>\n",
              "      <td>...</td>\n",
              "      <td>...</td>\n",
              "      <td>...</td>\n",
              "      <td>...</td>\n",
              "      <td>...</td>\n",
              "      <td>...</td>\n",
              "      <td>...</td>\n",
              "      <td>...</td>\n",
              "      <td>...</td>\n",
              "      <td>...</td>\n",
              "      <td>...</td>\n",
              "      <td>...</td>\n",
              "      <td>...</td>\n",
              "      <td>...</td>\n",
              "      <td>...</td>\n",
              "      <td>...</td>\n",
              "      <td>...</td>\n",
              "      <td>...</td>\n",
              "      <td>...</td>\n",
              "      <td>...</td>\n",
              "      <td>...</td>\n",
              "      <td>...</td>\n",
              "      <td>...</td>\n",
              "      <td>...</td>\n",
              "      <td>...</td>\n",
              "      <td>...</td>\n",
              "      <td>...</td>\n",
              "      <td>...</td>\n",
              "      <td>...</td>\n",
              "      <td>...</td>\n",
              "      <td>...</td>\n",
              "      <td>...</td>\n",
              "      <td>...</td>\n",
              "      <td>...</td>\n",
              "      <td>...</td>\n",
              "      <td>...</td>\n",
              "      <td>...</td>\n",
              "      <td>...</td>\n",
              "      <td>...</td>\n",
              "      <td>...</td>\n",
              "      <td>...</td>\n",
              "      <td>...</td>\n",
              "      <td>...</td>\n",
              "      <td>...</td>\n",
              "      <td>...</td>\n",
              "      <td>...</td>\n",
              "      <td>...</td>\n",
              "      <td>...</td>\n",
              "      <td>...</td>\n",
              "      <td>...</td>\n",
              "      <td>...</td>\n",
              "      <td>...</td>\n",
              "      <td>...</td>\n",
              "      <td>...</td>\n",
              "      <td>...</td>\n",
              "      <td>...</td>\n",
              "      <td>...</td>\n",
              "      <td>...</td>\n",
              "      <td>...</td>\n",
              "      <td>...</td>\n",
              "      <td>...</td>\n",
              "      <td>...</td>\n",
              "      <td>...</td>\n",
              "      <td>...</td>\n",
              "      <td>...</td>\n",
              "      <td>...</td>\n",
              "      <td>...</td>\n",
              "      <td>...</td>\n",
              "    </tr>\n",
              "    <tr>\n",
              "      <th>598</th>\n",
              "      <td>983.0</td>\n",
              "      <td>-0.924375</td>\n",
              "      <td>-0.421634</td>\n",
              "      <td>-0.543144</td>\n",
              "      <td>-0.974362</td>\n",
              "      <td>0.046486</td>\n",
              "      <td>-0.803879</td>\n",
              "      <td>-0.329449</td>\n",
              "      <td>0.015219</td>\n",
              "      <td>-0.719147</td>\n",
              "      <td>-1.171538</td>\n",
              "      <td>-0.215061</td>\n",
              "      <td>-0.539931</td>\n",
              "      <td>-0.054415</td>\n",
              "      <td>-0.857264</td>\n",
              "      <td>-0.231237</td>\n",
              "      <td>0.106557</td>\n",
              "      <td>-0.763705</td>\n",
              "      <td>-1.897641</td>\n",
              "      <td>-0.004372</td>\n",
              "      <td>0.263713</td>\n",
              "      <td>-0.691897</td>\n",
              "      <td>-0.146609</td>\n",
              "      <td>-0.305880</td>\n",
              "      <td>-0.047089</td>\n",
              "      <td>0.046392</td>\n",
              "      <td>-0.011303</td>\n",
              "      <td>-0.079102</td>\n",
              "      <td>-0.367816</td>\n",
              "      <td>-0.235289</td>\n",
              "      <td>-0.186119</td>\n",
              "      <td>-0.798909</td>\n",
              "      <td>-0.882524</td>\n",
              "      <td>-0.392168</td>\n",
              "      <td>0.374921</td>\n",
              "      <td>-0.280833</td>\n",
              "      <td>-0.343383</td>\n",
              "      <td>-0.093407</td>\n",
              "      <td>-0.885195</td>\n",
              "      <td>0.345303</td>\n",
              "      <td>...</td>\n",
              "      <td>8.880997</td>\n",
              "      <td>-1.143195</td>\n",
              "      <td>-0.151542</td>\n",
              "      <td>9.584079</td>\n",
              "      <td>1.566970</td>\n",
              "      <td>9.360155</td>\n",
              "      <td>-1.357023</td>\n",
              "      <td>0.188648</td>\n",
              "      <td>8.752846</td>\n",
              "      <td>1.426717</td>\n",
              "      <td>8.780682</td>\n",
              "      <td>-1.266472</td>\n",
              "      <td>-0.174252</td>\n",
              "      <td>7.113732</td>\n",
              "      <td>2.176904</td>\n",
              "      <td>7.102150</td>\n",
              "      <td>-1.283784</td>\n",
              "      <td>0.086820</td>\n",
              "      <td>7.467132</td>\n",
              "      <td>1.593710</td>\n",
              "      <td>7.258425</td>\n",
              "      <td>-1.167493</td>\n",
              "      <td>0.174205</td>\n",
              "      <td>6.952535</td>\n",
              "      <td>1.647973</td>\n",
              "      <td>6.847707</td>\n",
              "      <td>-1.139474</td>\n",
              "      <td>-0.109982</td>\n",
              "      <td>5.832885</td>\n",
              "      <td>2.045387</td>\n",
              "      <td>5.832724</td>\n",
              "      <td>-1.144051</td>\n",
              "      <td>0.155925</td>\n",
              "      <td>5.910796</td>\n",
              "      <td>1.170442</td>\n",
              "      <td>5.972369</td>\n",
              "      <td>-1.191367</td>\n",
              "      <td>0.024766</td>\n",
              "      <td>0.7750</td>\n",
              "      <td>0.5000</td>\n",
              "    </tr>\n",
              "    <tr>\n",
              "      <th>599</th>\n",
              "      <td>984.0</td>\n",
              "      <td>-0.498613</td>\n",
              "      <td>-0.437573</td>\n",
              "      <td>-0.650927</td>\n",
              "      <td>-0.726439</td>\n",
              "      <td>0.045566</td>\n",
              "      <td>-1.030830</td>\n",
              "      <td>-0.047073</td>\n",
              "      <td>0.003762</td>\n",
              "      <td>-0.745950</td>\n",
              "      <td>-0.639692</td>\n",
              "      <td>-0.481448</td>\n",
              "      <td>-0.406669</td>\n",
              "      <td>-0.120694</td>\n",
              "      <td>-0.847248</td>\n",
              "      <td>-0.272425</td>\n",
              "      <td>0.153017</td>\n",
              "      <td>-0.646714</td>\n",
              "      <td>-1.473629</td>\n",
              "      <td>0.233615</td>\n",
              "      <td>-0.177570</td>\n",
              "      <td>-0.212578</td>\n",
              "      <td>-0.069420</td>\n",
              "      <td>-0.048674</td>\n",
              "      <td>0.069654</td>\n",
              "      <td>-0.614716</td>\n",
              "      <td>-0.349927</td>\n",
              "      <td>0.103580</td>\n",
              "      <td>-0.624864</td>\n",
              "      <td>-0.311609</td>\n",
              "      <td>-0.507174</td>\n",
              "      <td>-0.277137</td>\n",
              "      <td>-0.967870</td>\n",
              "      <td>-0.567084</td>\n",
              "      <td>0.509025</td>\n",
              "      <td>-0.225130</td>\n",
              "      <td>-0.523384</td>\n",
              "      <td>-0.151908</td>\n",
              "      <td>-0.140617</td>\n",
              "      <td>0.072338</td>\n",
              "      <td>...</td>\n",
              "      <td>9.657931</td>\n",
              "      <td>-0.619039</td>\n",
              "      <td>0.030373</td>\n",
              "      <td>9.055938</td>\n",
              "      <td>1.423044</td>\n",
              "      <td>9.122936</td>\n",
              "      <td>-0.655925</td>\n",
              "      <td>-0.244232</td>\n",
              "      <td>8.327412</td>\n",
              "      <td>1.392699</td>\n",
              "      <td>8.635938</td>\n",
              "      <td>-0.982378</td>\n",
              "      <td>-0.297114</td>\n",
              "      <td>7.660477</td>\n",
              "      <td>1.421835</td>\n",
              "      <td>7.628767</td>\n",
              "      <td>-0.694468</td>\n",
              "      <td>-0.249714</td>\n",
              "      <td>7.588070</td>\n",
              "      <td>1.476982</td>\n",
              "      <td>7.669793</td>\n",
              "      <td>-1.179871</td>\n",
              "      <td>-0.159263</td>\n",
              "      <td>7.137814</td>\n",
              "      <td>1.505803</td>\n",
              "      <td>7.113504</td>\n",
              "      <td>-0.925720</td>\n",
              "      <td>-0.034932</td>\n",
              "      <td>6.324195</td>\n",
              "      <td>1.437017</td>\n",
              "      <td>6.170313</td>\n",
              "      <td>-0.848336</td>\n",
              "      <td>0.238831</td>\n",
              "      <td>5.660921</td>\n",
              "      <td>1.326513</td>\n",
              "      <td>5.616679</td>\n",
              "      <td>-0.718548</td>\n",
              "      <td>-0.126691</td>\n",
              "      <td>0.8250</td>\n",
              "      <td>0.7375</td>\n",
              "    </tr>\n",
              "    <tr>\n",
              "      <th>600</th>\n",
              "      <td>985.0</td>\n",
              "      <td>-0.054253</td>\n",
              "      <td>-0.595319</td>\n",
              "      <td>-0.752658</td>\n",
              "      <td>-0.964527</td>\n",
              "      <td>-0.013507</td>\n",
              "      <td>-1.199984</td>\n",
              "      <td>-0.219718</td>\n",
              "      <td>-0.021680</td>\n",
              "      <td>-0.689593</td>\n",
              "      <td>-0.801388</td>\n",
              "      <td>0.049272</td>\n",
              "      <td>-0.503667</td>\n",
              "      <td>-0.230101</td>\n",
              "      <td>-0.424424</td>\n",
              "      <td>-0.220889</td>\n",
              "      <td>0.090634</td>\n",
              "      <td>-0.738734</td>\n",
              "      <td>-1.121900</td>\n",
              "      <td>0.415815</td>\n",
              "      <td>-0.142855</td>\n",
              "      <td>0.730890</td>\n",
              "      <td>-0.274493</td>\n",
              "      <td>-0.757530</td>\n",
              "      <td>0.087477</td>\n",
              "      <td>-0.897107</td>\n",
              "      <td>0.033505</td>\n",
              "      <td>-0.296544</td>\n",
              "      <td>1.348836</td>\n",
              "      <td>-1.288841</td>\n",
              "      <td>0.075986</td>\n",
              "      <td>-0.781742</td>\n",
              "      <td>1.057346</td>\n",
              "      <td>-1.717589</td>\n",
              "      <td>-0.293314</td>\n",
              "      <td>0.017083</td>\n",
              "      <td>0.239757</td>\n",
              "      <td>-0.572596</td>\n",
              "      <td>-1.534695</td>\n",
              "      <td>-1.262776</td>\n",
              "      <td>...</td>\n",
              "      <td>11.124152</td>\n",
              "      <td>-0.932988</td>\n",
              "      <td>0.104207</td>\n",
              "      <td>10.452820</td>\n",
              "      <td>1.836076</td>\n",
              "      <td>10.444725</td>\n",
              "      <td>-0.874230</td>\n",
              "      <td>0.250323</td>\n",
              "      <td>9.632027</td>\n",
              "      <td>1.723130</td>\n",
              "      <td>9.756383</td>\n",
              "      <td>-1.058773</td>\n",
              "      <td>-0.318503</td>\n",
              "      <td>8.316644</td>\n",
              "      <td>1.864412</td>\n",
              "      <td>8.565578</td>\n",
              "      <td>-0.930819</td>\n",
              "      <td>0.011138</td>\n",
              "      <td>7.822187</td>\n",
              "      <td>1.667350</td>\n",
              "      <td>7.806720</td>\n",
              "      <td>-0.978045</td>\n",
              "      <td>0.312495</td>\n",
              "      <td>7.439066</td>\n",
              "      <td>1.663242</td>\n",
              "      <td>7.560241</td>\n",
              "      <td>-0.887639</td>\n",
              "      <td>-0.109726</td>\n",
              "      <td>6.709908</td>\n",
              "      <td>1.639992</td>\n",
              "      <td>6.717640</td>\n",
              "      <td>-0.980265</td>\n",
              "      <td>0.169360</td>\n",
              "      <td>6.487103</td>\n",
              "      <td>1.296328</td>\n",
              "      <td>6.547253</td>\n",
              "      <td>-1.231776</td>\n",
              "      <td>0.143009</td>\n",
              "      <td>0.7500</td>\n",
              "      <td>0.7000</td>\n",
              "    </tr>\n",
              "    <tr>\n",
              "      <th>601</th>\n",
              "      <td>993.0</td>\n",
              "      <td>-0.551541</td>\n",
              "      <td>-0.667303</td>\n",
              "      <td>-1.092378</td>\n",
              "      <td>-1.084921</td>\n",
              "      <td>-0.114426</td>\n",
              "      <td>-1.893631</td>\n",
              "      <td>0.063446</td>\n",
              "      <td>-0.281357</td>\n",
              "      <td>-0.602313</td>\n",
              "      <td>-1.251384</td>\n",
              "      <td>-0.306929</td>\n",
              "      <td>-0.815322</td>\n",
              "      <td>-0.323818</td>\n",
              "      <td>0.285067</td>\n",
              "      <td>-0.556402</td>\n",
              "      <td>-0.932976</td>\n",
              "      <td>-0.904991</td>\n",
              "      <td>1.830660</td>\n",
              "      <td>-0.915655</td>\n",
              "      <td>0.316037</td>\n",
              "      <td>6.936254</td>\n",
              "      <td>-0.645618</td>\n",
              "      <td>0.755947</td>\n",
              "      <td>-1.295395</td>\n",
              "      <td>1.036689</td>\n",
              "      <td>-2.729801</td>\n",
              "      <td>-3.548484</td>\n",
              "      <td>3.493069</td>\n",
              "      <td>-4.718711</td>\n",
              "      <td>-0.540374</td>\n",
              "      <td>-0.139371</td>\n",
              "      <td>1.089285</td>\n",
              "      <td>0.736711</td>\n",
              "      <td>-2.006250</td>\n",
              "      <td>-4.602597</td>\n",
              "      <td>-4.003023</td>\n",
              "      <td>-9.295740</td>\n",
              "      <td>13.580423</td>\n",
              "      <td>-6.485426</td>\n",
              "      <td>...</td>\n",
              "      <td>11.020055</td>\n",
              "      <td>-0.801963</td>\n",
              "      <td>-0.367936</td>\n",
              "      <td>10.925289</td>\n",
              "      <td>2.143691</td>\n",
              "      <td>10.533226</td>\n",
              "      <td>-1.109331</td>\n",
              "      <td>0.313837</td>\n",
              "      <td>9.710293</td>\n",
              "      <td>1.905475</td>\n",
              "      <td>9.360738</td>\n",
              "      <td>-1.150114</td>\n",
              "      <td>0.337153</td>\n",
              "      <td>7.944179</td>\n",
              "      <td>2.080717</td>\n",
              "      <td>8.052694</td>\n",
              "      <td>-0.477700</td>\n",
              "      <td>-0.408357</td>\n",
              "      <td>8.251797</td>\n",
              "      <td>1.805958</td>\n",
              "      <td>7.977563</td>\n",
              "      <td>-0.988712</td>\n",
              "      <td>0.138894</td>\n",
              "      <td>7.546681</td>\n",
              "      <td>1.643755</td>\n",
              "      <td>7.143772</td>\n",
              "      <td>-0.843936</td>\n",
              "      <td>0.523526</td>\n",
              "      <td>6.129801</td>\n",
              "      <td>2.021244</td>\n",
              "      <td>6.074243</td>\n",
              "      <td>-0.799921</td>\n",
              "      <td>0.154955</td>\n",
              "      <td>5.907610</td>\n",
              "      <td>1.915653</td>\n",
              "      <td>5.521278</td>\n",
              "      <td>-0.817956</td>\n",
              "      <td>0.477589</td>\n",
              "      <td>0.8625</td>\n",
              "      <td>0.7625</td>\n",
              "    </tr>\n",
              "    <tr>\n",
              "      <th>602</th>\n",
              "      <td>996.0</td>\n",
              "      <td>-0.892770</td>\n",
              "      <td>0.184764</td>\n",
              "      <td>-0.852980</td>\n",
              "      <td>-0.743365</td>\n",
              "      <td>0.034165</td>\n",
              "      <td>-1.253736</td>\n",
              "      <td>0.205598</td>\n",
              "      <td>-0.057167</td>\n",
              "      <td>-0.543124</td>\n",
              "      <td>-0.942862</td>\n",
              "      <td>-0.090750</td>\n",
              "      <td>-0.576702</td>\n",
              "      <td>0.120191</td>\n",
              "      <td>-1.092424</td>\n",
              "      <td>-0.436394</td>\n",
              "      <td>1.664472</td>\n",
              "      <td>0.283630</td>\n",
              "      <td>0.757085</td>\n",
              "      <td>0.082778</td>\n",
              "      <td>3.123294</td>\n",
              "      <td>-0.614000</td>\n",
              "      <td>-0.031095</td>\n",
              "      <td>0.062216</td>\n",
              "      <td>0.188264</td>\n",
              "      <td>-0.757849</td>\n",
              "      <td>-0.174193</td>\n",
              "      <td>-0.382936</td>\n",
              "      <td>-0.809986</td>\n",
              "      <td>-0.460695</td>\n",
              "      <td>-0.737708</td>\n",
              "      <td>-0.117981</td>\n",
              "      <td>-0.483891</td>\n",
              "      <td>-0.555906</td>\n",
              "      <td>0.075247</td>\n",
              "      <td>-0.651507</td>\n",
              "      <td>0.019311</td>\n",
              "      <td>0.295374</td>\n",
              "      <td>-0.728503</td>\n",
              "      <td>-0.030021</td>\n",
              "      <td>...</td>\n",
              "      <td>8.781094</td>\n",
              "      <td>-0.843225</td>\n",
              "      <td>-0.376298</td>\n",
              "      <td>8.556774</td>\n",
              "      <td>2.921692</td>\n",
              "      <td>8.984799</td>\n",
              "      <td>-0.965720</td>\n",
              "      <td>-0.225133</td>\n",
              "      <td>8.602499</td>\n",
              "      <td>2.349701</td>\n",
              "      <td>8.595081</td>\n",
              "      <td>-0.858160</td>\n",
              "      <td>0.018417</td>\n",
              "      <td>8.008121</td>\n",
              "      <td>1.911026</td>\n",
              "      <td>7.981064</td>\n",
              "      <td>-0.683853</td>\n",
              "      <td>0.207561</td>\n",
              "      <td>7.697452</td>\n",
              "      <td>1.520157</td>\n",
              "      <td>7.510031</td>\n",
              "      <td>-1.024669</td>\n",
              "      <td>0.172136</td>\n",
              "      <td>6.658440</td>\n",
              "      <td>1.241363</td>\n",
              "      <td>6.497814</td>\n",
              "      <td>-0.758471</td>\n",
              "      <td>0.092475</td>\n",
              "      <td>5.438317</td>\n",
              "      <td>1.326298</td>\n",
              "      <td>5.259416</td>\n",
              "      <td>-1.025520</td>\n",
              "      <td>-0.159621</td>\n",
              "      <td>5.156024</td>\n",
              "      <td>1.211958</td>\n",
              "      <td>5.274215</td>\n",
              "      <td>-1.167805</td>\n",
              "      <td>0.057193</td>\n",
              "      <td>0.8750</td>\n",
              "      <td>0.5625</td>\n",
              "    </tr>\n",
              "  </tbody>\n",
              "</table>\n",
              "<p>603 rows × 7104 columns</p>\n",
              "</div>"
            ],
            "text/plain": [
              "     musicId         0         1  ...  skewMFCC[19]  Arousal(mean)  Valence(mean)\n",
              "0        1.0  0.372514 -1.131089  ...      0.058839         0.4000         0.5750\n",
              "1        5.0 -0.021232 -0.068678  ...      0.354852         0.1500         0.2000\n",
              "2        6.0 -0.437151 -0.525415  ...     -0.041720         0.5125         0.3500\n",
              "3        9.0  0.302196 -0.833174  ...     -0.059084         0.4500         0.2875\n",
              "4       10.0 -0.484528 -0.380687  ...     -0.304776         0.4375         0.4250\n",
              "..       ...       ...       ...  ...           ...            ...            ...\n",
              "598    983.0 -0.924375 -0.421634  ...      0.024766         0.7750         0.5000\n",
              "599    984.0 -0.498613 -0.437573  ...     -0.126691         0.8250         0.7375\n",
              "600    985.0 -0.054253 -0.595319  ...      0.143009         0.7500         0.7000\n",
              "601    993.0 -0.551541 -0.667303  ...      0.477589         0.8625         0.7625\n",
              "602    996.0 -0.892770  0.184764  ...      0.057193         0.8750         0.5625\n",
              "\n",
              "[603 rows x 7104 columns]"
            ]
          },
          "metadata": {
            "tags": []
          },
          "execution_count": 7
        }
      ]
    },
    {
      "cell_type": "code",
      "metadata": {
        "id": "nfwOo21x2OzJ"
      },
      "source": [
        "y_A = dataset['Arousal(mean)']\r\n",
        "y_V = dataset['Valence(mean)']\r\n",
        "X = dataset.drop(['Arousal(mean)', 'Valence(mean)', 'musicId'], axis=1)"
      ],
      "execution_count": null,
      "outputs": []
    },
    {
      "cell_type": "code",
      "metadata": {
        "id": "LPUxd5f-rbWk"
      },
      "source": [
        "from sklearn.ensemble import StackingRegressor, VotingRegressor\r\n",
        "from sklearn.ensemble import RandomForestRegressor, AdaBoostRegressor\r\n",
        "from sklearn.model_selection import train_test_split\r\n",
        "from sklearn.svm import LinearSVR\r\n",
        "from sklearn.linear_model import ElasticNet, Ridge, Lasso, LinearRegression\r\n",
        "from sklearn.metrics import mean_squared_error, mean_absolute_error\r\n",
        "import pickle"
      ],
      "execution_count": null,
      "outputs": []
    },
    {
      "cell_type": "code",
      "metadata": {
        "id": "kbxoeR3mFgkl"
      },
      "source": [
        "static_results = dict()\r\n",
        "static_results['Stacking'] = dict()\r\n",
        "static_results['Voting'] = dict()"
      ],
      "execution_count": null,
      "outputs": []
    },
    {
      "cell_type": "code",
      "metadata": {
        "colab": {
          "base_uri": "https://localhost:8080/"
        },
        "id": "jOt-ygr8OOJk",
        "outputId": "7a03372a-b58f-4ec5-a7a4-21fd6e731542"
      },
      "source": [
        "#Arousal without PCA\r\n",
        "estimators = [('RF', RandomForestRegressor(max_depth=5, n_estimators=40, max_features=2)),\r\n",
        "              ('AB', AdaBoostRegressor(random_state=1, n_estimators=40))]\r\n",
        "#('LSV', LinearSVR(random_state=2, max_iter=3000))\r\n",
        "               \r\n",
        "stack_reg = StackingRegressor(estimators=estimators, final_estimator=LinearRegression(normalize=True))\r\n",
        "voting_reg = VotingRegressor(estimators=estimators)\r\n",
        "\r\n",
        "X_train, X_test, y_train, y_test = train_test_split(X, y_A, random_state=3, test_size=0.1, shuffle=True)\r\n",
        "\r\n",
        "stack_model_A_no_pca = stack_reg.fit(X_train, y_train)\r\n",
        "y_pred = stack_model_A_no_pca.predict(X_test)\r\n",
        "rmse_score = mean_squared_error(y_test, y_pred, squared=False)\r\n",
        "mae_score = mean_absolute_error(y_test, y_pred)\r\n",
        "print(\"Stacking Regressor ::: RMSE: {} and MAE: {}\".format(rmse_score, mae_score))\r\n",
        "static_results['Stacking']['Arousal (no PCA) RMSE'] = rmse_score\r\n",
        "static_results['Stacking']['Arousal (no PCA) MAE'] = mae_score\r\n",
        "static_results['Stacking']['Arousal (no PCA) Predictions'] = y_pred\r\n",
        "static_results['Stacking']['Arousal (no PCA) Labels'] = y_test\r\n",
        "\r\n",
        "vote_model_A_no_pca = voting_reg.fit(X_train, y_train)\r\n",
        "y_pred = vote_model_A_no_pca.predict(X_test)\r\n",
        "rmse_score = mean_squared_error(y_test, y_pred, squared=False)\r\n",
        "mae_score = mean_absolute_error(y_test, y_pred)\r\n",
        "print(\"Voting Regressor ::: RMSE: {} and MAE: {}\".format(rmse_score, mae_score))\r\n",
        "static_results['Voting']['Arousal (no PCA) RMSE'] = rmse_score\r\n",
        "static_results['Voting']['Arousal (no PCA) MAE'] = mae_score\r\n",
        "static_results['Voting']['Arousal (no PCA) Predictions'] = y_pred\r\n",
        "static_results['Voting']['Arousal (no PCA) Labels'] = y_test"
      ],
      "execution_count": null,
      "outputs": [
        {
          "output_type": "stream",
          "text": [
            "Stacking Regressor ::: RMSE: 0.11710255959393817 and MAE: 0.09802906659276013\n",
            "Voting Regressor ::: RMSE: 0.12593644188160005 and MAE: 0.10512807416862469\n"
          ],
          "name": "stdout"
        }
      ]
    },
    {
      "cell_type": "code",
      "metadata": {
        "id": "wrIw1DhHIz0K"
      },
      "source": [
        "pickle.dump(stack_model_A_no_pca, open('Stack_Arousal_noPCA.sav', 'wb'))\r\n",
        "pickle.dump(vote_model_A_no_pca, open('Vote_Arousal_noPCA.sav', 'wb'))"
      ],
      "execution_count": null,
      "outputs": []
    },
    {
      "cell_type": "code",
      "metadata": {
        "colab": {
          "base_uri": "https://localhost:8080/"
        },
        "id": "jyWiRFojIxqF",
        "outputId": "e3101440-ed37-48f3-c52b-5692ef1cb3ba"
      },
      "source": [
        "#Valence without PCA\r\n",
        "estimators = [('RF', RandomForestRegressor(max_depth=5, n_estimators=40, max_features=2)),\r\n",
        "              ('AB', AdaBoostRegressor(random_state=1, n_estimators=40))]\r\n",
        "#('LSV', LinearSVR(random_state=2, max_iter=3000))\r\n",
        "               \r\n",
        "stack_reg = StackingRegressor(estimators=estimators, final_estimator=LinearRegression(normalize=True))\r\n",
        "voting_reg = VotingRegressor(estimators=estimators)\r\n",
        "\r\n",
        "X_train, X_test, y_train, y_test = train_test_split(X, y_V, random_state=3, test_size=0.1, shuffle=True)\r\n",
        "\r\n",
        "stack_model_V_no_pca = stack_reg.fit(X_train, y_train)\r\n",
        "y_pred = stack_model_V_no_pca.predict(X_test)\r\n",
        "rmse_score = mean_squared_error(y_test, y_pred, squared=False)\r\n",
        "mae_score = mean_absolute_error(y_test, y_pred)\r\n",
        "print(\"Stacking Regressor ::: RMSE: {} and MAE: {}\".format(rmse_score, mae_score))\r\n",
        "static_results['Stacking']['Valence (no PCA) RMSE'] = rmse_score\r\n",
        "static_results['Stacking']['Valence (no PCA) MAE'] = mae_score\r\n",
        "static_results['Stacking']['Valence (no PCA) Predictions'] = y_pred\r\n",
        "static_results['Stacking']['Valence (no PCA) Labels'] = y_test\r\n",
        "\r\n",
        "vote_model_V_no_pca = voting_reg.fit(X_train, y_train)\r\n",
        "y_pred = vote_model_V_no_pca.predict(X_test)\r\n",
        "rmse_score = mean_squared_error(y_test, y_pred, squared=False)\r\n",
        "mae_score = mean_absolute_error(y_test, y_pred)\r\n",
        "print(\"Voting Regressor ::: RMSE: {} and MAE: {}\".format(rmse_score, mae_score))\r\n",
        "static_results['Voting']['Valence (no PCA) RMSE'] = rmse_score\r\n",
        "static_results['Voting']['Valence (no PCA) MAE'] = mae_score\r\n",
        "static_results['Voting']['Valence (no PCA) Predictions'] = y_pred\r\n",
        "static_results['Voting']['Valence (no PCA) Labels'] = y_test"
      ],
      "execution_count": null,
      "outputs": [
        {
          "output_type": "stream",
          "text": [
            "Stacking Regressor ::: RMSE: 0.11225101806428546 and MAE: 0.08941676084188709\n",
            "Voting Regressor ::: RMSE: 0.11966783800471828 and MAE: 0.09580010268418436\n"
          ],
          "name": "stdout"
        }
      ]
    },
    {
      "cell_type": "code",
      "metadata": {
        "id": "YhycxpNXRmy4"
      },
      "source": [
        "pickle.dump(stack_model_V_no_pca, open('Stack_Valence_noPCA.sav', 'wb'))\r\n",
        "pickle.dump(vote_model_V_no_pca, open('Vote_Valence_noPCA.sav', 'wb'))"
      ],
      "execution_count": null,
      "outputs": []
    },
    {
      "cell_type": "code",
      "metadata": {
        "colab": {
          "base_uri": "https://localhost:8080/",
          "height": 17
        },
        "id": "Jr9idingX5BW",
        "outputId": "a8353752-8407-40f9-de1a-6bd3b3364b0d"
      },
      "source": [
        "from google.colab import files\r\n",
        "files.download('/content/Stack_Arousal_noPCA.sav')\r\n",
        "files.download('/content/Stack_Valence_noPCA.sav')\r\n",
        "files.download('/content/Vote_Arousal_noPCA.sav')\r\n",
        "files.download('/content/Vote_Valence_noPCA.sav')"
      ],
      "execution_count": null,
      "outputs": [
        {
          "output_type": "display_data",
          "data": {
            "application/javascript": [
              "\n",
              "    async function download(id, filename, size) {\n",
              "      if (!google.colab.kernel.accessAllowed) {\n",
              "        return;\n",
              "      }\n",
              "      const div = document.createElement('div');\n",
              "      const label = document.createElement('label');\n",
              "      label.textContent = `Downloading \"${filename}\": `;\n",
              "      div.appendChild(label);\n",
              "      const progress = document.createElement('progress');\n",
              "      progress.max = size;\n",
              "      div.appendChild(progress);\n",
              "      document.body.appendChild(div);\n",
              "\n",
              "      const buffers = [];\n",
              "      let downloaded = 0;\n",
              "\n",
              "      const channel = await google.colab.kernel.comms.open(id);\n",
              "      // Send a message to notify the kernel that we're ready.\n",
              "      channel.send({})\n",
              "\n",
              "      for await (const message of channel.messages) {\n",
              "        // Send a message to notify the kernel that we're ready.\n",
              "        channel.send({})\n",
              "        if (message.buffers) {\n",
              "          for (const buffer of message.buffers) {\n",
              "            buffers.push(buffer);\n",
              "            downloaded += buffer.byteLength;\n",
              "            progress.value = downloaded;\n",
              "          }\n",
              "        }\n",
              "      }\n",
              "      const blob = new Blob(buffers, {type: 'application/binary'});\n",
              "      const a = document.createElement('a');\n",
              "      a.href = window.URL.createObjectURL(blob);\n",
              "      a.download = filename;\n",
              "      div.appendChild(a);\n",
              "      a.click();\n",
              "      div.remove();\n",
              "    }\n",
              "  "
            ],
            "text/plain": [
              "<IPython.core.display.Javascript object>"
            ]
          },
          "metadata": {
            "tags": []
          }
        },
        {
          "output_type": "display_data",
          "data": {
            "application/javascript": [
              "download(\"download_bd968cc2-84ae-49ec-963f-d155b9e27368\", \"Stack_Arousal_noPCA.sav\", 207045)"
            ],
            "text/plain": [
              "<IPython.core.display.Javascript object>"
            ]
          },
          "metadata": {
            "tags": []
          }
        },
        {
          "output_type": "display_data",
          "data": {
            "application/javascript": [
              "\n",
              "    async function download(id, filename, size) {\n",
              "      if (!google.colab.kernel.accessAllowed) {\n",
              "        return;\n",
              "      }\n",
              "      const div = document.createElement('div');\n",
              "      const label = document.createElement('label');\n",
              "      label.textContent = `Downloading \"${filename}\": `;\n",
              "      div.appendChild(label);\n",
              "      const progress = document.createElement('progress');\n",
              "      progress.max = size;\n",
              "      div.appendChild(progress);\n",
              "      document.body.appendChild(div);\n",
              "\n",
              "      const buffers = [];\n",
              "      let downloaded = 0;\n",
              "\n",
              "      const channel = await google.colab.kernel.comms.open(id);\n",
              "      // Send a message to notify the kernel that we're ready.\n",
              "      channel.send({})\n",
              "\n",
              "      for await (const message of channel.messages) {\n",
              "        // Send a message to notify the kernel that we're ready.\n",
              "        channel.send({})\n",
              "        if (message.buffers) {\n",
              "          for (const buffer of message.buffers) {\n",
              "            buffers.push(buffer);\n",
              "            downloaded += buffer.byteLength;\n",
              "            progress.value = downloaded;\n",
              "          }\n",
              "        }\n",
              "      }\n",
              "      const blob = new Blob(buffers, {type: 'application/binary'});\n",
              "      const a = document.createElement('a');\n",
              "      a.href = window.URL.createObjectURL(blob);\n",
              "      a.download = filename;\n",
              "      div.appendChild(a);\n",
              "      a.click();\n",
              "      div.remove();\n",
              "    }\n",
              "  "
            ],
            "text/plain": [
              "<IPython.core.display.Javascript object>"
            ]
          },
          "metadata": {
            "tags": []
          }
        },
        {
          "output_type": "display_data",
          "data": {
            "application/javascript": [
              "download(\"download_ced4a7de-3079-4865-97fe-ee7bf4c7ac00\", \"Stack_Valence_noPCA.sav\", 205765)"
            ],
            "text/plain": [
              "<IPython.core.display.Javascript object>"
            ]
          },
          "metadata": {
            "tags": []
          }
        },
        {
          "output_type": "display_data",
          "data": {
            "application/javascript": [
              "\n",
              "    async function download(id, filename, size) {\n",
              "      if (!google.colab.kernel.accessAllowed) {\n",
              "        return;\n",
              "      }\n",
              "      const div = document.createElement('div');\n",
              "      const label = document.createElement('label');\n",
              "      label.textContent = `Downloading \"${filename}\": `;\n",
              "      div.appendChild(label);\n",
              "      const progress = document.createElement('progress');\n",
              "      progress.max = size;\n",
              "      div.appendChild(progress);\n",
              "      document.body.appendChild(div);\n",
              "\n",
              "      const buffers = [];\n",
              "      let downloaded = 0;\n",
              "\n",
              "      const channel = await google.colab.kernel.comms.open(id);\n",
              "      // Send a message to notify the kernel that we're ready.\n",
              "      channel.send({})\n",
              "\n",
              "      for await (const message of channel.messages) {\n",
              "        // Send a message to notify the kernel that we're ready.\n",
              "        channel.send({})\n",
              "        if (message.buffers) {\n",
              "          for (const buffer of message.buffers) {\n",
              "            buffers.push(buffer);\n",
              "            downloaded += buffer.byteLength;\n",
              "            progress.value = downloaded;\n",
              "          }\n",
              "        }\n",
              "      }\n",
              "      const blob = new Blob(buffers, {type: 'application/binary'});\n",
              "      const a = document.createElement('a');\n",
              "      a.href = window.URL.createObjectURL(blob);\n",
              "      a.download = filename;\n",
              "      div.appendChild(a);\n",
              "      a.click();\n",
              "      div.remove();\n",
              "    }\n",
              "  "
            ],
            "text/plain": [
              "<IPython.core.display.Javascript object>"
            ]
          },
          "metadata": {
            "tags": []
          }
        },
        {
          "output_type": "display_data",
          "data": {
            "application/javascript": [
              "download(\"download_eed3ff36-4a91-4f6b-8f12-1df9a0fc8137\", \"Vote_Arousal_noPCA.sav\", 200514)"
            ],
            "text/plain": [
              "<IPython.core.display.Javascript object>"
            ]
          },
          "metadata": {
            "tags": []
          }
        },
        {
          "output_type": "display_data",
          "data": {
            "application/javascript": [
              "\n",
              "    async function download(id, filename, size) {\n",
              "      if (!google.colab.kernel.accessAllowed) {\n",
              "        return;\n",
              "      }\n",
              "      const div = document.createElement('div');\n",
              "      const label = document.createElement('label');\n",
              "      label.textContent = `Downloading \"${filename}\": `;\n",
              "      div.appendChild(label);\n",
              "      const progress = document.createElement('progress');\n",
              "      progress.max = size;\n",
              "      div.appendChild(progress);\n",
              "      document.body.appendChild(div);\n",
              "\n",
              "      const buffers = [];\n",
              "      let downloaded = 0;\n",
              "\n",
              "      const channel = await google.colab.kernel.comms.open(id);\n",
              "      // Send a message to notify the kernel that we're ready.\n",
              "      channel.send({})\n",
              "\n",
              "      for await (const message of channel.messages) {\n",
              "        // Send a message to notify the kernel that we're ready.\n",
              "        channel.send({})\n",
              "        if (message.buffers) {\n",
              "          for (const buffer of message.buffers) {\n",
              "            buffers.push(buffer);\n",
              "            downloaded += buffer.byteLength;\n",
              "            progress.value = downloaded;\n",
              "          }\n",
              "        }\n",
              "      }\n",
              "      const blob = new Blob(buffers, {type: 'application/binary'});\n",
              "      const a = document.createElement('a');\n",
              "      a.href = window.URL.createObjectURL(blob);\n",
              "      a.download = filename;\n",
              "      div.appendChild(a);\n",
              "      a.click();\n",
              "      div.remove();\n",
              "    }\n",
              "  "
            ],
            "text/plain": [
              "<IPython.core.display.Javascript object>"
            ]
          },
          "metadata": {
            "tags": []
          }
        },
        {
          "output_type": "display_data",
          "data": {
            "application/javascript": [
              "download(\"download_736586fa-40f5-4a95-9641-c725ef045576\", \"Vote_Valence_noPCA.sav\", 201026)"
            ],
            "text/plain": [
              "<IPython.core.display.Javascript object>"
            ]
          },
          "metadata": {
            "tags": []
          }
        }
      ]
    },
    {
      "cell_type": "code",
      "metadata": {
        "id": "AjEqgrqQ7MC7"
      },
      "source": [
        "from sklearn.decomposition import PCA\r\n",
        "from sklearn.preprocessing import StandardScaler\r\n",
        "import matplotlib.pyplot as plt\r\n",
        "\r\n",
        "class MyPCA:\r\n",
        "\tdef __init__(self):\r\n",
        "\t\tpass\r\n",
        "\r\n",
        "\tdef perform_PCA(self, X, n_components=3):\r\n",
        "\t\tcols = ['column'+str(i) for i in range(X.shape[1])]\r\n",
        "\t\tX.columns = cols\r\n",
        "\r\n",
        "\t\tX = StandardScaler().fit_transform(X)\r\n",
        "\t\tself.X = X\r\n",
        "\t\tself.n_components = n_components\r\n",
        "\r\n",
        "\t\tself.pca = PCA(self.n_components)\r\n",
        "\t\tself.pca_dims = self.pca.fit_transform(self.X)\r\n",
        "\r\n",
        "\t\tself.pca_result = pd.DataFrame(data = self.pca_dims)\r\n",
        "\t\treturn self.pca_result\r\n",
        "\r\n",
        "\tdef explain_variance(self):\r\n",
        "\t\tprint(\"Explained Variance per Principal Component:\\n{}\".format(self.pca.explained_variance_ratio_))\r\n",
        "\r\n",
        "\tdef plot_variance(self):\r\n",
        "\t\tplt.rcParams[\"figure.figsize\"] = (24,12)\r\n",
        "\t\tfig, ax = plt.subplots()\r\n",
        "\t\txi = np.arange(1, self.pca_result.shape[1]+1, step=1)\r\n",
        "\t\ty = np.cumsum(self.pca.explained_variance_ratio_)\r\n",
        "\r\n",
        "\t\tplt.ylim(0.0, 1.1)\r\n",
        "\t\tplt.plot(xi, y, marker='o', linestyle='--', color='b')\r\n",
        "\t\tplt.xlabel('Number of Features')\r\n",
        "\t\tplt.ylabel('Cumulative Variance Percentage')\r\n",
        "\t\tplt.title('Variance explained through Number of Features')\r\n",
        "\r\n",
        "\t\tplt.axhline(y=self.n_components, color='r', linestyle='-')\r\n",
        "\t\tax.grid(axis='x')\r\n",
        "\t\tplt.show()"
      ],
      "execution_count": null,
      "outputs": []
    },
    {
      "cell_type": "code",
      "metadata": {
        "colab": {
          "base_uri": "https://localhost:8080/",
          "height": 588
        },
        "id": "P_DHsAFq8SXl",
        "outputId": "27cc3a23-9b33-4003-c887-bdfc4ebfa371"
      },
      "source": [
        "pca = MyPCA()\r\n",
        "X_pca = pca.perform_PCA(X, n_components=0.9999)\r\n",
        "pca.plot_variance()"
      ],
      "execution_count": null,
      "outputs": [
        {
          "output_type": "display_data",
          "data": {
            "image/png": "[encoded data removed]",
            "text/plain": [
              "<Figure size 1728x864 with 1 Axes>"
            ]
          },
          "metadata": {
            "tags": [],
            "needs_background": "light"
          }
        }
      ]
    },
    {
      "cell_type": "code",
      "metadata": {
        "colab": {
          "base_uri": "https://localhost:8080/"
        },
        "id": "SoF_Sm47EAJv",
        "outputId": "074fb592-ab40-4991-e4dc-ad2a084c8f70"
      },
      "source": [
        "X_pca.shape"
      ],
      "execution_count": null,
      "outputs": [
        {
          "output_type": "execute_result",
          "data": {
            "text/plain": [
              "(603, 602)"
            ]
          },
          "metadata": {
            "tags": []
          },
          "execution_count": 21
        }
      ]
    },
    {
      "cell_type": "code",
      "metadata": {
        "colab": {
          "base_uri": "https://localhost:8080/"
        },
        "id": "QARsj_Ma80X_",
        "outputId": "778117d4-4828-47e4-8af6-218a11cb3a0d"
      },
      "source": [
        "#Arousal with PCA\r\n",
        "estimators = [('RF', RandomForestRegressor(max_depth=5, n_estimators=40, max_features=2)),\r\n",
        "              ('AB', AdaBoostRegressor(random_state=1, n_estimators=40))]\r\n",
        "#('LSV', LinearSVR(random_state=2, max_iter=3000))\r\n",
        "               \r\n",
        "stack_reg = StackingRegressor(estimators=estimators, final_estimator=LinearRegression(normalize=True))\r\n",
        "voting_reg = VotingRegressor(estimators=estimators)\r\n",
        "\r\n",
        "X_pca_s = StandardScaler().fit_transform(X_pca)\r\n",
        "X_train, X_test, y_train, y_test = train_test_split(X_pca_s, y_A, random_state=3, test_size=0.1, shuffle=True)\r\n",
        "\r\n",
        "stack_model_A_pca = stack_reg.fit(X_train, y_train)\r\n",
        "y_pred = stack_model_A_pca.predict(X_test)\r\n",
        "rmse_score = mean_squared_error(y_test, y_pred, squared=False)\r\n",
        "mae_score = mean_absolute_error(y_test, y_pred)\r\n",
        "print(\"Stacking Regressor ::: RMSE: {} and MAE: {}\".format(rmse_score, mae_score))\r\n",
        "static_results['Stacking']['Arousal (PCA) RMSE'] = rmse_score\r\n",
        "static_results['Stacking']['Arousal (PCA) MAE'] = mae_score\r\n",
        "static_results['Stacking']['Arousal (PCA) Predictions'] = y_pred\r\n",
        "static_results['Stacking']['Arousal (PCA) Labels'] = y_test\r\n",
        "\r\n",
        "vote_model_A_pca = voting_reg.fit(X_train, y_train)\r\n",
        "y_pred = vote_model_A_pca.predict(X_test)\r\n",
        "rmse_score = mean_squared_error(y_test, y_pred, squared=False)\r\n",
        "mae_score = mean_absolute_error(y_test, y_pred)\r\n",
        "print(\"Voting Regressor ::: RMSE: {} and MAE: {}\".format(rmse_score, mae_score))\r\n",
        "static_results['Voting']['Arousal (PCA) RMSE'] = rmse_score\r\n",
        "static_results['Voting']['Arousal (PCA) MAE'] = mae_score\r\n",
        "static_results['Voting']['Arousal (PCA) Predictions'] = y_pred\r\n",
        "static_results['Voting']['Arousal (PCA) Labels'] = y_test"
      ],
      "execution_count": null,
      "outputs": [
        {
          "output_type": "stream",
          "text": [
            "Stacking Regressor ::: RMSE: 0.11781720235308019 and MAE: 0.09343920009476589\n",
            "Voting Regressor ::: RMSE: 0.1417150811018216 and MAE: 0.11650191207324058\n"
          ],
          "name": "stdout"
        }
      ]
    },
    {
      "cell_type": "code",
      "metadata": {
        "id": "lDfTHCvWXiuV"
      },
      "source": [
        "pickle.dump(stack_model_A_pca, open('Stack_Arousal_PCA.sav', 'wb'))\r\n",
        "pickle.dump(vote_model_A_pca, open('Vote_Arousal_PCA.sav', 'wb'))"
      ],
      "execution_count": null,
      "outputs": []
    },
    {
      "cell_type": "code",
      "metadata": {
        "colab": {
          "base_uri": "https://localhost:8080/"
        },
        "id": "rxPj75kwYc5w",
        "outputId": "533653c7-7d32-4f1d-fce6-f0ed6b2d7e15"
      },
      "source": [
        "#Valence with PCA\r\n",
        "estimators = [('RF', RandomForestRegressor(max_depth=5, n_estimators=40, max_features=2)),\r\n",
        "              ('AB', AdaBoostRegressor(random_state=1, n_estimators=40))]\r\n",
        "#('LSV', LinearSVR(random_state=2, max_iter=3000))\r\n",
        "               \r\n",
        "stack_reg = StackingRegressor(estimators=estimators, final_estimator=LinearRegression(normalize=True))\r\n",
        "voting_reg = VotingRegressor(estimators=estimators)\r\n",
        "\r\n",
        "X_pca_s = StandardScaler().fit_transform(X_pca)\r\n",
        "X_train, X_test, y_train, y_test = train_test_split(X_pca_s, y_V, random_state=3, test_size=0.1, shuffle=True)\r\n",
        "\r\n",
        "stack_model_V_pca = stack_reg.fit(X_train, y_train)\r\n",
        "y_pred = stack_model_V_pca.predict(X_test)\r\n",
        "rmse_score = mean_squared_error(y_test, y_pred, squared=False)\r\n",
        "mae_score = mean_absolute_error(y_test, y_pred)\r\n",
        "print(\"Stacking Regressor ::: RMSE: {} and MAE: {}\".format(rmse_score, mae_score))\r\n",
        "static_results['Stacking']['Valence (PCA) RMSE'] = rmse_score\r\n",
        "static_results['Stacking']['Valence (PCA) MAE'] = mae_score\r\n",
        "static_results['Stacking']['Valence (PCA) Predictions'] = y_pred\r\n",
        "static_results['Stacking']['Valence (PCA) Labels'] = y_test\r\n",
        "\r\n",
        "vote_model_A_pca = voting_reg.fit(X_train, y_train)\r\n",
        "y_pred = vote_model_A_pca.predict(X_test)\r\n",
        "rmse_score = mean_squared_error(y_test, y_pred, squared=False)\r\n",
        "mae_score = mean_absolute_error(y_test, y_pred)\r\n",
        "print(\"Voting Regressor ::: RMSE: {} and MAE: {}\".format(rmse_score, mae_score))\r\n",
        "static_results['Voting']['Valence (PCA) RMSE'] = rmse_score\r\n",
        "static_results['Voting']['Valence (PCA) MAE'] = mae_score\r\n",
        "static_results['Voting']['Valence (PCA) Predictions'] = y_pred\r\n",
        "static_results['Voting']['Valence (PCA) Labels'] = y_test"
      ],
      "execution_count": null,
      "outputs": [
        {
          "output_type": "stream",
          "text": [
            "Stacking Regressor ::: RMSE: 0.12636273946319626 and MAE: 0.10109870211758183\n",
            "Voting Regressor ::: RMSE: 0.13826461317535385 and MAE: 0.11026823121990877\n"
          ],
          "name": "stdout"
        }
      ]
    },
    {
      "cell_type": "code",
      "metadata": {
        "id": "3dP5cq9mZNVu"
      },
      "source": [
        "pickle.dump(stack_model_A_pca, open('Stack_Valence_PCA.sav', 'wb'))\r\n",
        "pickle.dump(vote_model_A_pca, open('Vote_Valence_PCA.sav', 'wb'))"
      ],
      "execution_count": null,
      "outputs": []
    },
    {
      "cell_type": "code",
      "metadata": {
        "colab": {
          "base_uri": "https://localhost:8080/",
          "height": 17
        },
        "id": "rayzdBzhZXaX",
        "outputId": "5c111d90-09b8-488a-c059-80c36876cb18"
      },
      "source": [
        "from google.colab import files\r\n",
        "files.download('/content/Stack_Arousal_PCA.sav')\r\n",
        "files.download('/content/Stack_Valence_PCA.sav')\r\n",
        "files.download('/content/Vote_Arousal_PCA.sav')\r\n",
        "files.download('/content/Vote_Valence_PCA.sav')"
      ],
      "execution_count": null,
      "outputs": [
        {
          "output_type": "display_data",
          "data": {
            "application/javascript": [
              "\n",
              "    async function download(id, filename, size) {\n",
              "      if (!google.colab.kernel.accessAllowed) {\n",
              "        return;\n",
              "      }\n",
              "      const div = document.createElement('div');\n",
              "      const label = document.createElement('label');\n",
              "      label.textContent = `Downloading \"${filename}\": `;\n",
              "      div.appendChild(label);\n",
              "      const progress = document.createElement('progress');\n",
              "      progress.max = size;\n",
              "      div.appendChild(progress);\n",
              "      document.body.appendChild(div);\n",
              "\n",
              "      const buffers = [];\n",
              "      let downloaded = 0;\n",
              "\n",
              "      const channel = await google.colab.kernel.comms.open(id);\n",
              "      // Send a message to notify the kernel that we're ready.\n",
              "      channel.send({})\n",
              "\n",
              "      for await (const message of channel.messages) {\n",
              "        // Send a message to notify the kernel that we're ready.\n",
              "        channel.send({})\n",
              "        if (message.buffers) {\n",
              "          for (const buffer of message.buffers) {\n",
              "            buffers.push(buffer);\n",
              "            downloaded += buffer.byteLength;\n",
              "            progress.value = downloaded;\n",
              "          }\n",
              "        }\n",
              "      }\n",
              "      const blob = new Blob(buffers, {type: 'application/binary'});\n",
              "      const a = document.createElement('a');\n",
              "      a.href = window.URL.createObjectURL(blob);\n",
              "      a.download = filename;\n",
              "      div.appendChild(a);\n",
              "      a.click();\n",
              "      div.remove();\n",
              "    }\n",
              "  "
            ],
            "text/plain": [
              "<IPython.core.display.Javascript object>"
            ]
          },
          "metadata": {
            "tags": []
          }
        },
        {
          "output_type": "display_data",
          "data": {
            "application/javascript": [
              "download(\"download_ab6df532-ce38-47b1-8e44-10bffad95757\", \"Stack_Arousal_PCA.sav\", 186809)"
            ],
            "text/plain": [
              "<IPython.core.display.Javascript object>"
            ]
          },
          "metadata": {
            "tags": []
          }
        },
        {
          "output_type": "display_data",
          "data": {
            "application/javascript": [
              "\n",
              "    async function download(id, filename, size) {\n",
              "      if (!google.colab.kernel.accessAllowed) {\n",
              "        return;\n",
              "      }\n",
              "      const div = document.createElement('div');\n",
              "      const label = document.createElement('label');\n",
              "      label.textContent = `Downloading \"${filename}\": `;\n",
              "      div.appendChild(label);\n",
              "      const progress = document.createElement('progress');\n",
              "      progress.max = size;\n",
              "      div.appendChild(progress);\n",
              "      document.body.appendChild(div);\n",
              "\n",
              "      const buffers = [];\n",
              "      let downloaded = 0;\n",
              "\n",
              "      const channel = await google.colab.kernel.comms.open(id);\n",
              "      // Send a message to notify the kernel that we're ready.\n",
              "      channel.send({})\n",
              "\n",
              "      for await (const message of channel.messages) {\n",
              "        // Send a message to notify the kernel that we're ready.\n",
              "        channel.send({})\n",
              "        if (message.buffers) {\n",
              "          for (const buffer of message.buffers) {\n",
              "            buffers.push(buffer);\n",
              "            downloaded += buffer.byteLength;\n",
              "            progress.value = downloaded;\n",
              "          }\n",
              "        }\n",
              "      }\n",
              "      const blob = new Blob(buffers, {type: 'application/binary'});\n",
              "      const a = document.createElement('a');\n",
              "      a.href = window.URL.createObjectURL(blob);\n",
              "      a.download = filename;\n",
              "      div.appendChild(a);\n",
              "      a.click();\n",
              "      div.remove();\n",
              "    }\n",
              "  "
            ],
            "text/plain": [
              "<IPython.core.display.Javascript object>"
            ]
          },
          "metadata": {
            "tags": []
          }
        },
        {
          "output_type": "display_data",
          "data": {
            "application/javascript": [
              "download(\"download_2f46cfe2-4df1-44f1-bc14-14349c8b6f6f\", \"Stack_Valence_PCA.sav\", 186809)"
            ],
            "text/plain": [
              "<IPython.core.display.Javascript object>"
            ]
          },
          "metadata": {
            "tags": []
          }
        },
        {
          "output_type": "display_data",
          "data": {
            "application/javascript": [
              "\n",
              "    async function download(id, filename, size) {\n",
              "      if (!google.colab.kernel.accessAllowed) {\n",
              "        return;\n",
              "      }\n",
              "      const div = document.createElement('div');\n",
              "      const label = document.createElement('label');\n",
              "      label.textContent = `Downloading \"${filename}\": `;\n",
              "      div.appendChild(label);\n",
              "      const progress = document.createElement('progress');\n",
              "      progress.max = size;\n",
              "      div.appendChild(progress);\n",
              "      document.body.appendChild(div);\n",
              "\n",
              "      const buffers = [];\n",
              "      let downloaded = 0;\n",
              "\n",
              "      const channel = await google.colab.kernel.comms.open(id);\n",
              "      // Send a message to notify the kernel that we're ready.\n",
              "      channel.send({})\n",
              "\n",
              "      for await (const message of channel.messages) {\n",
              "        // Send a message to notify the kernel that we're ready.\n",
              "        channel.send({})\n",
              "        if (message.buffers) {\n",
              "          for (const buffer of message.buffers) {\n",
              "            buffers.push(buffer);\n",
              "            downloaded += buffer.byteLength;\n",
              "            progress.value = downloaded;\n",
              "          }\n",
              "        }\n",
              "      }\n",
              "      const blob = new Blob(buffers, {type: 'application/binary'});\n",
              "      const a = document.createElement('a');\n",
              "      a.href = window.URL.createObjectURL(blob);\n",
              "      a.download = filename;\n",
              "      div.appendChild(a);\n",
              "      a.click();\n",
              "      div.remove();\n",
              "    }\n",
              "  "
            ],
            "text/plain": [
              "<IPython.core.display.Javascript object>"
            ]
          },
          "metadata": {
            "tags": []
          }
        },
        {
          "output_type": "display_data",
          "data": {
            "application/javascript": [
              "download(\"download_3f3b494b-13c4-4dda-9bea-bd816dded0d1\", \"Vote_Arousal_PCA.sav\", 186428)"
            ],
            "text/plain": [
              "<IPython.core.display.Javascript object>"
            ]
          },
          "metadata": {
            "tags": []
          }
        },
        {
          "output_type": "display_data",
          "data": {
            "application/javascript": [
              "\n",
              "    async function download(id, filename, size) {\n",
              "      if (!google.colab.kernel.accessAllowed) {\n",
              "        return;\n",
              "      }\n",
              "      const div = document.createElement('div');\n",
              "      const label = document.createElement('label');\n",
              "      label.textContent = `Downloading \"${filename}\": `;\n",
              "      div.appendChild(label);\n",
              "      const progress = document.createElement('progress');\n",
              "      progress.max = size;\n",
              "      div.appendChild(progress);\n",
              "      document.body.appendChild(div);\n",
              "\n",
              "      const buffers = [];\n",
              "      let downloaded = 0;\n",
              "\n",
              "      const channel = await google.colab.kernel.comms.open(id);\n",
              "      // Send a message to notify the kernel that we're ready.\n",
              "      channel.send({})\n",
              "\n",
              "      for await (const message of channel.messages) {\n",
              "        // Send a message to notify the kernel that we're ready.\n",
              "        channel.send({})\n",
              "        if (message.buffers) {\n",
              "          for (const buffer of message.buffers) {\n",
              "            buffers.push(buffer);\n",
              "            downloaded += buffer.byteLength;\n",
              "            progress.value = downloaded;\n",
              "          }\n",
              "        }\n",
              "      }\n",
              "      const blob = new Blob(buffers, {type: 'application/binary'});\n",
              "      const a = document.createElement('a');\n",
              "      a.href = window.URL.createObjectURL(blob);\n",
              "      a.download = filename;\n",
              "      div.appendChild(a);\n",
              "      a.click();\n",
              "      div.remove();\n",
              "    }\n",
              "  "
            ],
            "text/plain": [
              "<IPython.core.display.Javascript object>"
            ]
          },
          "metadata": {
            "tags": []
          }
        },
        {
          "output_type": "display_data",
          "data": {
            "application/javascript": [
              "download(\"download_92bf3a24-9946-4329-8912-2e2ce9a8db28\", \"Vote_Valence_PCA.sav\", 182451)"
            ],
            "text/plain": [
              "<IPython.core.display.Javascript object>"
            ]
          },
          "metadata": {
            "tags": []
          }
        }
      ]
    },
    {
      "cell_type": "code",
      "metadata": {
        "colab": {
          "base_uri": "https://localhost:8080/",
          "height": 549
        },
        "id": "RuIzOR3pZxn9",
        "outputId": "f11b109e-0756-438c-a434-78e0f82d1657"
      },
      "source": [
        "import seaborn as sns\r\n",
        "sns.set_style(\"whitegrid\")\r\n",
        "preds_As = static_results['Stacking']['Arousal (no PCA) Predictions']\r\n",
        "preds_Vs = static_results['Stacking']['Valence (no PCA) Predictions']\r\n",
        "plt.figure(figsize=(10,4))\r\n",
        "sns.residplot(x=preds_As, y=static_results['Stacking']['Arousal (no PCA) Labels'], lowess=True, label='Arousal')\r\n",
        "sns.residplot(x=preds_Vs, y=static_results['Stacking']['Valence (no PCA) Labels'], lowess=True, label='Valence')\r\n",
        "plt.xlabel('Predictions')\r\n",
        "plt.ylabel('Residues')\r\n",
        "plt.legend()\r\n",
        "#plt.xticks(ticks=np.arange(np.min(preds), np.max(preds), 6))\r\n",
        "plt.yticks(ticks=[-0.4, -0.3, -0.2, -0.1, 0, 0.1, 0.2, 0.3, 0.4])\r\n",
        "plt.show()\r\n",
        "\r\n",
        "import seaborn as sns\r\n",
        "sns.set_style(\"whitegrid\")\r\n",
        "preds_Av = static_results['Voting']['Arousal (no PCA) Predictions']\r\n",
        "preds_Vv = static_results['Voting']['Valence (no PCA) Predictions']\r\n",
        "plt.figure(figsize=(10,4))\r\n",
        "sns.residplot(x=preds_Av, y=static_results['Voting']['Arousal (no PCA) Labels'], lowess=True, label='Arousal')\r\n",
        "sns.residplot(x=preds_Vv, y=static_results['Voting']['Valence (no PCA) Labels'], lowess=True, label='Valence')\r\n",
        "plt.xlabel('Predictions')\r\n",
        "plt.ylabel('Residues')\r\n",
        "plt.legend()\r\n",
        "#plt.xticks(ticks=np.arange(np.min(preds), np.max(preds), 6))\r\n",
        "plt.yticks(ticks=[-0.4, -0.3, -0.2, -0.1, 0, 0.1, 0.2, 0.3, 0.4])\r\n",
        "plt.show()"
      ],
      "execution_count": null,
      "outputs": [
        {
          "output_type": "display_data",
          "data": {
            "image/png": "[encoded data removed]",
            "text/plain": [
              "<Figure size 720x288 with 1 Axes>"
            ]
          },
          "metadata": {
            "tags": []
          }
        },
        {
          "output_type": "display_data",
          "data": {
            "image/png": "[encoded data removed]",
            "text/plain": [
              "<Figure size 720x288 with 1 Axes>"
            ]
          },
          "metadata": {
            "tags": []
          }
        }
      ]
    },
    {
      "cell_type": "code",
      "metadata": {
        "colab": {
          "base_uri": "https://localhost:8080/",
          "height": 472
        },
        "id": "mAfwjBYEsSgi",
        "outputId": "25c3bc5c-3274-4d00-b263-2dcdd1d2b122"
      },
      "source": [
        "import seaborn as sns\r\n",
        "sns.set_style(\"whitegrid\")\r\n",
        "preds_As = static_results['Stacking']['Arousal (no PCA) Predictions']\r\n",
        "preds_Vs = static_results['Stacking']['Valence (no PCA) Predictions']\r\n",
        "plt.figure(figsize=(10,4))\r\n",
        "sns.jointplot(x=preds_As, y=static_results['Stacking']['Arousal (no PCA) Labels'], label='Arousal', kind='reg', color='#0F8E5B')\r\n",
        "plt.xlabel('Predictions')\r\n",
        "plt.ylabel('Actual (Arousal)')\r\n",
        "plt.legend()\r\n",
        "#plt.xticks(ticks=np.arange(np.min(preds), np.max(preds), 6))\r\n",
        "#plt.yticks(ticks=[-0.4, -0.3, -0.2, -0.1, 0, 0.1, 0.2, 0.3, 0.4])\r\n",
        "plt.show()"
      ],
      "execution_count": null,
      "outputs": [
        {
          "output_type": "display_data",
          "data": {
            "text/plain": [
              "<Figure size 720x288 with 0 Axes>"
            ]
          },
          "metadata": {
            "tags": []
          }
        },
        {
          "output_type": "display_data",
          "data": {
            "image/png": "[encoded data removed]",
            "text/plain": [
              "<Figure size 432x432 with 3 Axes>"
            ]
          },
          "metadata": {
            "tags": []
          }
        }
      ]
    },
    {
      "cell_type": "code",
      "metadata": {
        "colab": {
          "base_uri": "https://localhost:8080/",
          "height": 472
        },
        "id": "MLgzbSjtuK1B",
        "outputId": "1640a961-be4d-4176-c637-943d68d724a7"
      },
      "source": [
        "import seaborn as sns\r\n",
        "sns.set_style(\"whitegrid\")\r\n",
        "preds_As = static_results['Stacking']['Arousal (no PCA) Predictions']\r\n",
        "preds_Vs = static_results['Stacking']['Valence (no PCA) Predictions']\r\n",
        "plt.figure(figsize=(10,4))\r\n",
        "sns.jointplot(x=preds_Vs, y=static_results['Stacking']['Valence (no PCA) Labels'], label='Valence', kind='reg', color='#CC7027')\r\n",
        "plt.xlabel('Predictions')\r\n",
        "plt.ylabel('Actual (Valence)')\r\n",
        "plt.legend()\r\n",
        "#plt.xticks(ticks=np.arange(np.min(preds), np.max(preds), 6))\r\n",
        "#plt.yticks(ticks=[-0.4, -0.3, -0.2, -0.1, 0, 0.1, 0.2, 0.3, 0.4])\r\n",
        "plt.show()"
      ],
      "execution_count": null,
      "outputs": [
        {
          "output_type": "display_data",
          "data": {
            "text/plain": [
              "<Figure size 720x288 with 0 Axes>"
            ]
          },
          "metadata": {
            "tags": []
          }
        },
        {
          "output_type": "display_data",
          "data": {
            "image/png": "[encoded data removed]",
            "text/plain": [
              "<Figure size 432x432 with 3 Axes>"
            ]
          },
          "metadata": {
            "tags": []
          }
        }
      ]
    },
    {
      "cell_type": "code",
      "metadata": {
        "colab": {
          "base_uri": "https://localhost:8080/",
          "height": 912
        },
        "id": "Z9Rrf1fqjCbg",
        "outputId": "27fd08cc-867e-435d-cbea-eb051f739af0"
      },
      "source": [
        "import scipy.stats as stats\r\n",
        "plt.figure(figsize=(7,7))\r\n",
        "residuals_s = static_results['Stacking']['Arousal (no PCA) Labels'] - preds_As.reshape(-1)\r\n",
        "stats.probplot(residuals, dist='norm', plot=plt)"
      ],
      "execution_count": null,
      "outputs": [
        {
          "output_type": "execute_result",
          "data": {
            "text/plain": [
              "((array([-2.28017173, -1.92017484, -1.7091256 , -1.55469152, -1.43036801,\n",
              "         -1.3249031 , -1.23241216, -1.14940983, -1.07365152, -1.00360143,\n",
              "         -0.93815914, -0.87650695, -0.81801894, -0.76220403, -0.70866868,\n",
              "         -0.65709167, -0.60720655, -0.55878903, -0.51164772, -0.46561731,\n",
              "         -0.42055328, -0.37632784, -0.33282677, -0.28994682, -0.24759369,\n",
              "         -0.20568029, -0.16412527, -0.12285188, -0.08178679, -0.04085922,\n",
              "          0.        ,  0.04085922,  0.08178679,  0.12285188,  0.16412527,\n",
              "          0.20568029,  0.24759369,  0.28994682,  0.33282677,  0.37632784,\n",
              "          0.42055328,  0.46561731,  0.51164772,  0.55878903,  0.60720655,\n",
              "          0.65709167,  0.70866868,  0.76220403,  0.81801894,  0.87650695,\n",
              "          0.93815914,  1.00360143,  1.07365152,  1.14940983,  1.23241216,\n",
              "          1.3249031 ,  1.43036801,  1.55469152,  1.7091256 ,  1.92017484,\n",
              "          2.28017173]),\n",
              "  array([-0.25451342, -0.24248809, -0.23272042, -0.20075387, -0.15834984,\n",
              "         -0.15597297, -0.15537759, -0.15407042, -0.15266251, -0.14549375,\n",
              "         -0.12810831, -0.12719182, -0.11750653, -0.11387048, -0.10305924,\n",
              "         -0.08432439, -0.0789571 , -0.07710638, -0.07357618, -0.06987053,\n",
              "         -0.06628067, -0.06403233, -0.05008577, -0.04926031, -0.023643  ,\n",
              "         -0.02196996, -0.02092343, -0.01537209, -0.01171325, -0.01085072,\n",
              "         -0.00909015,  0.00167451,  0.00243654,  0.00769157,  0.02652814,\n",
              "          0.02827135,  0.03041479,  0.03184353,  0.05064661,  0.05231891,\n",
              "          0.05683277,  0.05944424,  0.0688648 ,  0.07701812,  0.09310035,\n",
              "          0.09623844,  0.11157621,  0.11176779,  0.11330095,  0.11440856,\n",
              "          0.11588194,  0.11735985,  0.11945573,  0.13392474,  0.13415091,\n",
              "          0.15239548,  0.1607678 ,  0.16106902,  0.16207593,  0.20312675,\n",
              "          0.21599122])),\n",
              " (0.11955875534913436, -0.005878983383349538, 0.9913812831707393))"
            ]
          },
          "metadata": {
            "tags": []
          },
          "execution_count": 75
        },
        {
          "output_type": "display_data",
          "data": {
            "image/png": "[encoded data removed]",
            "text/plain": [
              "<Figure size 504x504 with 1 Axes>"
            ]
          },
          "metadata": {
            "tags": []
          }
        }
      ]
    }
  ]
}